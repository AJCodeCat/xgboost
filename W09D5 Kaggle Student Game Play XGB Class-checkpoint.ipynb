{
 "cells": [
  {
   "cell_type": "markdown",
   "metadata": {},
   "source": [
    "## W09D5 Kaggle Student Game Play\n",
    "https://data.compass.lighthouselabs.ca/p/7/days/w09d5/activities/2762\n",
    "\n",
    "https://www.kaggle.com/competitions/predict-student-performance-from-game-play\n",
    "\n"
   ]
  },
  {
   "cell_type": "markdown",
   "metadata": {},
   "source": [
    "## Loading packages"
   ]
  },
  {
   "cell_type": "code",
   "execution_count": 6,
   "metadata": {
    "execution": {
     "iopub.execute_input": "2023-07-18T22:09:43.015758Z",
     "iopub.status.busy": "2023-07-18T22:09:43.015349Z",
     "iopub.status.idle": "2023-07-18T22:09:43.638407Z",
     "shell.execute_reply": "2023-07-18T22:09:43.637132Z",
     "shell.execute_reply.started": "2023-07-18T22:09:43.015724Z"
    }
   },
   "outputs": [],
   "source": [
    "import pandas as pd\n",
    "import numpy as np\n",
    "import matplotlib.pyplot as plt\n",
    "import matplotlib.patches as mpatches\n",
    "import seaborn as sns"
   ]
  },
  {
   "cell_type": "markdown",
   "metadata": {},
   "source": [
    "## Loading data"
   ]
  },
  {
   "cell_type": "code",
   "execution_count": 8,
   "metadata": {
    "execution": {
     "iopub.execute_input": "2023-07-18T22:09:43.640693Z",
     "iopub.status.busy": "2023-07-18T22:09:43.640341Z",
     "iopub.status.idle": "2023-07-18T22:09:43.650473Z",
     "shell.execute_reply": "2023-07-18T22:09:43.646902Z",
     "shell.execute_reply.started": "2023-07-18T22:09:43.640644Z"
    }
   },
   "outputs": [],
   "source": [
    "dtypes={'session_id':'category', \n",
    "'elapsed_time':np.int32,\n",
    "    'event_name':'category',\n",
    "    'name':'category',\n",
    "    'level':np.int8,\n",
    "    'page':'category',\n",
    "    'room_coor_x':np.float32,\n",
    "    'room_coor_y':np.float32,\n",
    "    'screen_coor_x':np.float32,\n",
    "    'screen_coor_y':np.float32,\n",
    "    'hover_duration':np.float32,\n",
    "     'text':'category',\n",
    "     'fqid':'category',\n",
    "     'room_fqid':'category',\n",
    "     'text_fqid':'category',\n",
    "     'fullscreen':'category',\n",
    "     'hq':'category',\n",
    "     'music':'category',\n",
    "     'level_group':'category'}"
   ]
  },
  {
   "cell_type": "code",
   "execution_count": 9,
   "metadata": {
    "execution": {
     "iopub.execute_input": "2023-07-18T22:09:43.652676Z",
     "iopub.status.busy": "2023-07-18T22:09:43.652301Z",
     "iopub.status.idle": "2023-07-18T22:12:00.710837Z",
     "shell.execute_reply": "2023-07-18T22:12:00.709888Z",
     "shell.execute_reply.started": "2023-07-18T22:09:43.652635Z"
    }
   },
   "outputs": [],
   "source": [
    "train = pd.read_csv(r'C:\\Career\\LighthouseLabs\\DataScience_Week9\\Kaggle_XGB Class_Game_CC\\Game_Play_W09D5\\train.csv', dtype=dtypes)\n",
    "test = pd.read_csv(r'C:\\Career\\LighthouseLabs\\DataScience_Week9\\Kaggle_XGB Class_Game_CC\\Game_Play_W09D5\\test.csv', dtype=dtypes)\n",
    "train_labels = pd.read_csv(r'C:\\Career\\LighthouseLabs\\DataScience_Week9\\Kaggle_XGB Class_Game_CC\\Game_Play_W09D5\\train_labels.csv')"
   ]
  },
  {
   "cell_type": "code",
   "execution_count": 7,
   "metadata": {
    "execution": {
     "iopub.execute_input": "2023-07-18T22:12:00.714734Z",
     "iopub.status.busy": "2023-07-18T22:12:00.713920Z",
     "iopub.status.idle": "2023-07-18T22:12:00.749026Z",
     "shell.execute_reply": "2023-07-18T22:12:00.747977Z",
     "shell.execute_reply.started": "2023-07-18T22:12:00.714678Z"
    }
   },
   "outputs": [
    {
     "data": {
      "text/html": [
       "<div>\n",
       "<style scoped>\n",
       "    .dataframe tbody tr th:only-of-type {\n",
       "        vertical-align: middle;\n",
       "    }\n",
       "\n",
       "    .dataframe tbody tr th {\n",
       "        vertical-align: top;\n",
       "    }\n",
       "\n",
       "    .dataframe thead th {\n",
       "        text-align: right;\n",
       "    }\n",
       "</style>\n",
       "<table border=\"1\" class=\"dataframe\">\n",
       "  <thead>\n",
       "    <tr style=\"text-align: right;\">\n",
       "      <th></th>\n",
       "      <th>session_id</th>\n",
       "      <th>index</th>\n",
       "      <th>elapsed_time</th>\n",
       "      <th>event_name</th>\n",
       "      <th>name</th>\n",
       "      <th>level</th>\n",
       "      <th>page</th>\n",
       "      <th>room_coor_x</th>\n",
       "      <th>room_coor_y</th>\n",
       "      <th>screen_coor_x</th>\n",
       "      <th>screen_coor_y</th>\n",
       "      <th>hover_duration</th>\n",
       "      <th>text</th>\n",
       "      <th>fqid</th>\n",
       "      <th>room_fqid</th>\n",
       "      <th>text_fqid</th>\n",
       "      <th>fullscreen</th>\n",
       "      <th>hq</th>\n",
       "      <th>music</th>\n",
       "      <th>level_group</th>\n",
       "    </tr>\n",
       "  </thead>\n",
       "  <tbody>\n",
       "    <tr>\n",
       "      <th>0</th>\n",
       "      <td>20090312431273200</td>\n",
       "      <td>0</td>\n",
       "      <td>0</td>\n",
       "      <td>cutscene_click</td>\n",
       "      <td>basic</td>\n",
       "      <td>0</td>\n",
       "      <td>NaN</td>\n",
       "      <td>-413.991394</td>\n",
       "      <td>-159.314682</td>\n",
       "      <td>380.0</td>\n",
       "      <td>494.0</td>\n",
       "      <td>NaN</td>\n",
       "      <td>undefined</td>\n",
       "      <td>intro</td>\n",
       "      <td>tunic.historicalsociety.closet</td>\n",
       "      <td>tunic.historicalsociety.closet.intro</td>\n",
       "      <td>0</td>\n",
       "      <td>0</td>\n",
       "      <td>1</td>\n",
       "      <td>0-4</td>\n",
       "    </tr>\n",
       "    <tr>\n",
       "      <th>1</th>\n",
       "      <td>20090312431273200</td>\n",
       "      <td>1</td>\n",
       "      <td>1323</td>\n",
       "      <td>person_click</td>\n",
       "      <td>basic</td>\n",
       "      <td>0</td>\n",
       "      <td>NaN</td>\n",
       "      <td>-413.991394</td>\n",
       "      <td>-159.314682</td>\n",
       "      <td>380.0</td>\n",
       "      <td>494.0</td>\n",
       "      <td>NaN</td>\n",
       "      <td>Whatcha doing over there, Jo?</td>\n",
       "      <td>gramps</td>\n",
       "      <td>tunic.historicalsociety.closet</td>\n",
       "      <td>tunic.historicalsociety.closet.gramps.intro_0_...</td>\n",
       "      <td>0</td>\n",
       "      <td>0</td>\n",
       "      <td>1</td>\n",
       "      <td>0-4</td>\n",
       "    </tr>\n",
       "    <tr>\n",
       "      <th>2</th>\n",
       "      <td>20090312431273200</td>\n",
       "      <td>2</td>\n",
       "      <td>831</td>\n",
       "      <td>person_click</td>\n",
       "      <td>basic</td>\n",
       "      <td>0</td>\n",
       "      <td>NaN</td>\n",
       "      <td>-413.991394</td>\n",
       "      <td>-159.314682</td>\n",
       "      <td>380.0</td>\n",
       "      <td>494.0</td>\n",
       "      <td>NaN</td>\n",
       "      <td>Just talking to Teddy.</td>\n",
       "      <td>gramps</td>\n",
       "      <td>tunic.historicalsociety.closet</td>\n",
       "      <td>tunic.historicalsociety.closet.gramps.intro_0_...</td>\n",
       "      <td>0</td>\n",
       "      <td>0</td>\n",
       "      <td>1</td>\n",
       "      <td>0-4</td>\n",
       "    </tr>\n",
       "    <tr>\n",
       "      <th>3</th>\n",
       "      <td>20090312431273200</td>\n",
       "      <td>3</td>\n",
       "      <td>1147</td>\n",
       "      <td>person_click</td>\n",
       "      <td>basic</td>\n",
       "      <td>0</td>\n",
       "      <td>NaN</td>\n",
       "      <td>-413.991394</td>\n",
       "      <td>-159.314682</td>\n",
       "      <td>380.0</td>\n",
       "      <td>494.0</td>\n",
       "      <td>NaN</td>\n",
       "      <td>I gotta run to my meeting!</td>\n",
       "      <td>gramps</td>\n",
       "      <td>tunic.historicalsociety.closet</td>\n",
       "      <td>tunic.historicalsociety.closet.gramps.intro_0_...</td>\n",
       "      <td>0</td>\n",
       "      <td>0</td>\n",
       "      <td>1</td>\n",
       "      <td>0-4</td>\n",
       "    </tr>\n",
       "    <tr>\n",
       "      <th>4</th>\n",
       "      <td>20090312431273200</td>\n",
       "      <td>4</td>\n",
       "      <td>1863</td>\n",
       "      <td>person_click</td>\n",
       "      <td>basic</td>\n",
       "      <td>0</td>\n",
       "      <td>NaN</td>\n",
       "      <td>-412.991394</td>\n",
       "      <td>-159.314682</td>\n",
       "      <td>381.0</td>\n",
       "      <td>494.0</td>\n",
       "      <td>NaN</td>\n",
       "      <td>Can I come, Gramps?</td>\n",
       "      <td>gramps</td>\n",
       "      <td>tunic.historicalsociety.closet</td>\n",
       "      <td>tunic.historicalsociety.closet.gramps.intro_0_...</td>\n",
       "      <td>0</td>\n",
       "      <td>0</td>\n",
       "      <td>1</td>\n",
       "      <td>0-4</td>\n",
       "    </tr>\n",
       "  </tbody>\n",
       "</table>\n",
       "</div>"
      ],
      "text/plain": [
       "          session_id  index  elapsed_time      event_name   name  level page  \\\n",
       "0  20090312431273200      0             0  cutscene_click  basic      0  NaN   \n",
       "1  20090312431273200      1          1323    person_click  basic      0  NaN   \n",
       "2  20090312431273200      2           831    person_click  basic      0  NaN   \n",
       "3  20090312431273200      3          1147    person_click  basic      0  NaN   \n",
       "4  20090312431273200      4          1863    person_click  basic      0  NaN   \n",
       "\n",
       "   room_coor_x  room_coor_y  screen_coor_x  screen_coor_y  hover_duration  \\\n",
       "0  -413.991394  -159.314682          380.0          494.0             NaN   \n",
       "1  -413.991394  -159.314682          380.0          494.0             NaN   \n",
       "2  -413.991394  -159.314682          380.0          494.0             NaN   \n",
       "3  -413.991394  -159.314682          380.0          494.0             NaN   \n",
       "4  -412.991394  -159.314682          381.0          494.0             NaN   \n",
       "\n",
       "                            text    fqid                       room_fqid  \\\n",
       "0                      undefined   intro  tunic.historicalsociety.closet   \n",
       "1  Whatcha doing over there, Jo?  gramps  tunic.historicalsociety.closet   \n",
       "2         Just talking to Teddy.  gramps  tunic.historicalsociety.closet   \n",
       "3     I gotta run to my meeting!  gramps  tunic.historicalsociety.closet   \n",
       "4            Can I come, Gramps?  gramps  tunic.historicalsociety.closet   \n",
       "\n",
       "                                           text_fqid fullscreen hq music  \\\n",
       "0               tunic.historicalsociety.closet.intro          0  0     1   \n",
       "1  tunic.historicalsociety.closet.gramps.intro_0_...          0  0     1   \n",
       "2  tunic.historicalsociety.closet.gramps.intro_0_...          0  0     1   \n",
       "3  tunic.historicalsociety.closet.gramps.intro_0_...          0  0     1   \n",
       "4  tunic.historicalsociety.closet.gramps.intro_0_...          0  0     1   \n",
       "\n",
       "  level_group  \n",
       "0         0-4  \n",
       "1         0-4  \n",
       "2         0-4  \n",
       "3         0-4  \n",
       "4         0-4  "
      ]
     },
     "execution_count": 7,
     "metadata": {},
     "output_type": "execute_result"
    }
   ],
   "source": [
    "train.head()"
   ]
  },
  {
   "cell_type": "code",
   "execution_count": 8,
   "metadata": {
    "execution": {
     "iopub.execute_input": "2023-07-18T22:12:00.750785Z",
     "iopub.status.busy": "2023-07-18T22:12:00.750371Z",
     "iopub.status.idle": "2023-07-18T22:12:00.785285Z",
     "shell.execute_reply": "2023-07-18T22:12:00.784206Z",
     "shell.execute_reply.started": "2023-07-18T22:12:00.750752Z"
    }
   },
   "outputs": [
    {
     "data": {
      "text/html": [
       "<div>\n",
       "<style scoped>\n",
       "    .dataframe tbody tr th:only-of-type {\n",
       "        vertical-align: middle;\n",
       "    }\n",
       "\n",
       "    .dataframe tbody tr th {\n",
       "        vertical-align: top;\n",
       "    }\n",
       "\n",
       "    .dataframe thead th {\n",
       "        text-align: right;\n",
       "    }\n",
       "</style>\n",
       "<table border=\"1\" class=\"dataframe\">\n",
       "  <thead>\n",
       "    <tr style=\"text-align: right;\">\n",
       "      <th></th>\n",
       "      <th>session_id</th>\n",
       "      <th>index</th>\n",
       "      <th>elapsed_time</th>\n",
       "      <th>event_name</th>\n",
       "      <th>name</th>\n",
       "      <th>level</th>\n",
       "      <th>page</th>\n",
       "      <th>room_coor_x</th>\n",
       "      <th>room_coor_y</th>\n",
       "      <th>screen_coor_x</th>\n",
       "      <th>...</th>\n",
       "      <th>hover_duration</th>\n",
       "      <th>text</th>\n",
       "      <th>fqid</th>\n",
       "      <th>room_fqid</th>\n",
       "      <th>text_fqid</th>\n",
       "      <th>fullscreen</th>\n",
       "      <th>hq</th>\n",
       "      <th>music</th>\n",
       "      <th>level_group</th>\n",
       "      <th>session_level</th>\n",
       "    </tr>\n",
       "  </thead>\n",
       "  <tbody>\n",
       "    <tr>\n",
       "      <th>0</th>\n",
       "      <td>20090109393214576</td>\n",
       "      <td>0</td>\n",
       "      <td>0</td>\n",
       "      <td>cutscene_click</td>\n",
       "      <td>basic</td>\n",
       "      <td>0</td>\n",
       "      <td>NaN</td>\n",
       "      <td>-413.991394</td>\n",
       "      <td>75.685310</td>\n",
       "      <td>380.0</td>\n",
       "      <td>...</td>\n",
       "      <td>NaN</td>\n",
       "      <td>undefined</td>\n",
       "      <td>intro</td>\n",
       "      <td>tunic.historicalsociety.closet</td>\n",
       "      <td>tunic.historicalsociety.closet.intro</td>\n",
       "      <td>0</td>\n",
       "      <td>0</td>\n",
       "      <td>1</td>\n",
       "      <td>0-4</td>\n",
       "      <td>0</td>\n",
       "    </tr>\n",
       "    <tr>\n",
       "      <th>1</th>\n",
       "      <td>20090109393214576</td>\n",
       "      <td>1</td>\n",
       "      <td>1965</td>\n",
       "      <td>person_click</td>\n",
       "      <td>basic</td>\n",
       "      <td>0</td>\n",
       "      <td>NaN</td>\n",
       "      <td>-105.991402</td>\n",
       "      <td>-63.314686</td>\n",
       "      <td>688.0</td>\n",
       "      <td>...</td>\n",
       "      <td>NaN</td>\n",
       "      <td>Whatcha doing over there, Jo?</td>\n",
       "      <td>gramps</td>\n",
       "      <td>tunic.historicalsociety.closet</td>\n",
       "      <td>tunic.historicalsociety.closet.gramps.intro_0_...</td>\n",
       "      <td>0</td>\n",
       "      <td>0</td>\n",
       "      <td>1</td>\n",
       "      <td>0-4</td>\n",
       "      <td>0</td>\n",
       "    </tr>\n",
       "    <tr>\n",
       "      <th>2</th>\n",
       "      <td>20090109393214576</td>\n",
       "      <td>2</td>\n",
       "      <td>3614</td>\n",
       "      <td>person_click</td>\n",
       "      <td>basic</td>\n",
       "      <td>0</td>\n",
       "      <td>NaN</td>\n",
       "      <td>-418.991394</td>\n",
       "      <td>47.685314</td>\n",
       "      <td>375.0</td>\n",
       "      <td>...</td>\n",
       "      <td>NaN</td>\n",
       "      <td>Just talking to Teddy.</td>\n",
       "      <td>gramps</td>\n",
       "      <td>tunic.historicalsociety.closet</td>\n",
       "      <td>tunic.historicalsociety.closet.gramps.intro_0_...</td>\n",
       "      <td>0</td>\n",
       "      <td>0</td>\n",
       "      <td>1</td>\n",
       "      <td>0-4</td>\n",
       "      <td>0</td>\n",
       "    </tr>\n",
       "    <tr>\n",
       "      <th>3</th>\n",
       "      <td>20090109393214576</td>\n",
       "      <td>3</td>\n",
       "      <td>5330</td>\n",
       "      <td>person_click</td>\n",
       "      <td>basic</td>\n",
       "      <td>0</td>\n",
       "      <td>NaN</td>\n",
       "      <td>-110.991402</td>\n",
       "      <td>-57.314686</td>\n",
       "      <td>683.0</td>\n",
       "      <td>...</td>\n",
       "      <td>NaN</td>\n",
       "      <td>I gotta run to my meeting!</td>\n",
       "      <td>gramps</td>\n",
       "      <td>tunic.historicalsociety.closet</td>\n",
       "      <td>tunic.historicalsociety.closet.gramps.intro_0_...</td>\n",
       "      <td>0</td>\n",
       "      <td>0</td>\n",
       "      <td>1</td>\n",
       "      <td>0-4</td>\n",
       "      <td>0</td>\n",
       "    </tr>\n",
       "    <tr>\n",
       "      <th>4</th>\n",
       "      <td>20090109393214576</td>\n",
       "      <td>4</td>\n",
       "      <td>6397</td>\n",
       "      <td>person_click</td>\n",
       "      <td>basic</td>\n",
       "      <td>0</td>\n",
       "      <td>NaN</td>\n",
       "      <td>-110.991402</td>\n",
       "      <td>-57.314686</td>\n",
       "      <td>683.0</td>\n",
       "      <td>...</td>\n",
       "      <td>NaN</td>\n",
       "      <td>Can I come, Gramps?</td>\n",
       "      <td>gramps</td>\n",
       "      <td>tunic.historicalsociety.closet</td>\n",
       "      <td>tunic.historicalsociety.closet.gramps.intro_0_...</td>\n",
       "      <td>0</td>\n",
       "      <td>0</td>\n",
       "      <td>1</td>\n",
       "      <td>0-4</td>\n",
       "      <td>0</td>\n",
       "    </tr>\n",
       "  </tbody>\n",
       "</table>\n",
       "<p>5 rows × 21 columns</p>\n",
       "</div>"
      ],
      "text/plain": [
       "          session_id  index  elapsed_time      event_name   name  level page  \\\n",
       "0  20090109393214576      0             0  cutscene_click  basic      0  NaN   \n",
       "1  20090109393214576      1          1965    person_click  basic      0  NaN   \n",
       "2  20090109393214576      2          3614    person_click  basic      0  NaN   \n",
       "3  20090109393214576      3          5330    person_click  basic      0  NaN   \n",
       "4  20090109393214576      4          6397    person_click  basic      0  NaN   \n",
       "\n",
       "   room_coor_x  room_coor_y  screen_coor_x  ...  hover_duration  \\\n",
       "0  -413.991394    75.685310          380.0  ...             NaN   \n",
       "1  -105.991402   -63.314686          688.0  ...             NaN   \n",
       "2  -418.991394    47.685314          375.0  ...             NaN   \n",
       "3  -110.991402   -57.314686          683.0  ...             NaN   \n",
       "4  -110.991402   -57.314686          683.0  ...             NaN   \n",
       "\n",
       "                            text    fqid                       room_fqid  \\\n",
       "0                      undefined   intro  tunic.historicalsociety.closet   \n",
       "1  Whatcha doing over there, Jo?  gramps  tunic.historicalsociety.closet   \n",
       "2         Just talking to Teddy.  gramps  tunic.historicalsociety.closet   \n",
       "3     I gotta run to my meeting!  gramps  tunic.historicalsociety.closet   \n",
       "4            Can I come, Gramps?  gramps  tunic.historicalsociety.closet   \n",
       "\n",
       "                                           text_fqid fullscreen hq music  \\\n",
       "0               tunic.historicalsociety.closet.intro          0  0     1   \n",
       "1  tunic.historicalsociety.closet.gramps.intro_0_...          0  0     1   \n",
       "2  tunic.historicalsociety.closet.gramps.intro_0_...          0  0     1   \n",
       "3  tunic.historicalsociety.closet.gramps.intro_0_...          0  0     1   \n",
       "4  tunic.historicalsociety.closet.gramps.intro_0_...          0  0     1   \n",
       "\n",
       "  level_group session_level  \n",
       "0         0-4             0  \n",
       "1         0-4             0  \n",
       "2         0-4             0  \n",
       "3         0-4             0  \n",
       "4         0-4             0  \n",
       "\n",
       "[5 rows x 21 columns]"
      ]
     },
     "execution_count": 8,
     "metadata": {},
     "output_type": "execute_result"
    }
   ],
   "source": [
    "test.head()"
   ]
  },
  {
   "cell_type": "code",
   "execution_count": 9,
   "metadata": {
    "execution": {
     "iopub.execute_input": "2023-07-18T22:12:00.787111Z",
     "iopub.status.busy": "2023-07-18T22:12:00.786757Z",
     "iopub.status.idle": "2023-07-18T22:12:00.798414Z",
     "shell.execute_reply": "2023-07-18T22:12:00.797309Z",
     "shell.execute_reply.started": "2023-07-18T22:12:00.787079Z"
    }
   },
   "outputs": [
    {
     "data": {
      "text/html": [
       "<div>\n",
       "<style scoped>\n",
       "    .dataframe tbody tr th:only-of-type {\n",
       "        vertical-align: middle;\n",
       "    }\n",
       "\n",
       "    .dataframe tbody tr th {\n",
       "        vertical-align: top;\n",
       "    }\n",
       "\n",
       "    .dataframe thead th {\n",
       "        text-align: right;\n",
       "    }\n",
       "</style>\n",
       "<table border=\"1\" class=\"dataframe\">\n",
       "  <thead>\n",
       "    <tr style=\"text-align: right;\">\n",
       "      <th></th>\n",
       "      <th>session_id</th>\n",
       "      <th>correct</th>\n",
       "    </tr>\n",
       "  </thead>\n",
       "  <tbody>\n",
       "    <tr>\n",
       "      <th>0</th>\n",
       "      <td>20090312431273200_q1</td>\n",
       "      <td>1</td>\n",
       "    </tr>\n",
       "    <tr>\n",
       "      <th>1</th>\n",
       "      <td>20090312433251036_q1</td>\n",
       "      <td>0</td>\n",
       "    </tr>\n",
       "    <tr>\n",
       "      <th>2</th>\n",
       "      <td>20090312455206810_q1</td>\n",
       "      <td>1</td>\n",
       "    </tr>\n",
       "    <tr>\n",
       "      <th>3</th>\n",
       "      <td>20090313091715820_q1</td>\n",
       "      <td>0</td>\n",
       "    </tr>\n",
       "    <tr>\n",
       "      <th>4</th>\n",
       "      <td>20090313571836404_q1</td>\n",
       "      <td>1</td>\n",
       "    </tr>\n",
       "    <tr>\n",
       "      <th>5</th>\n",
       "      <td>20090314035813970_q1</td>\n",
       "      <td>1</td>\n",
       "    </tr>\n",
       "    <tr>\n",
       "      <th>6</th>\n",
       "      <td>20090314121766812_q1</td>\n",
       "      <td>1</td>\n",
       "    </tr>\n",
       "    <tr>\n",
       "      <th>7</th>\n",
       "      <td>20090314221187252_q1</td>\n",
       "      <td>0</td>\n",
       "    </tr>\n",
       "    <tr>\n",
       "      <th>8</th>\n",
       "      <td>20090314363702160_q1</td>\n",
       "      <td>1</td>\n",
       "    </tr>\n",
       "    <tr>\n",
       "      <th>9</th>\n",
       "      <td>20090314441803444_q1</td>\n",
       "      <td>1</td>\n",
       "    </tr>\n",
       "  </tbody>\n",
       "</table>\n",
       "</div>"
      ],
      "text/plain": [
       "             session_id  correct\n",
       "0  20090312431273200_q1        1\n",
       "1  20090312433251036_q1        0\n",
       "2  20090312455206810_q1        1\n",
       "3  20090313091715820_q1        0\n",
       "4  20090313571836404_q1        1\n",
       "5  20090314035813970_q1        1\n",
       "6  20090314121766812_q1        1\n",
       "7  20090314221187252_q1        0\n",
       "8  20090314363702160_q1        1\n",
       "9  20090314441803444_q1        1"
      ]
     },
     "execution_count": 9,
     "metadata": {},
     "output_type": "execute_result"
    }
   ],
   "source": [
    "train_labels.head(10)"
   ]
  },
  {
   "cell_type": "code",
   "execution_count": 10,
   "metadata": {
    "execution": {
     "iopub.execute_input": "2023-07-18T22:12:00.800299Z",
     "iopub.status.busy": "2023-07-18T22:12:00.799845Z",
     "iopub.status.idle": "2023-07-18T22:12:00.814432Z",
     "shell.execute_reply": "2023-07-18T22:12:00.813365Z",
     "shell.execute_reply.started": "2023-07-18T22:12:00.800266Z"
    }
   },
   "outputs": [
    {
     "data": {
      "text/plain": [
       "(26296946, 20)"
      ]
     },
     "execution_count": 10,
     "metadata": {},
     "output_type": "execute_result"
    }
   ],
   "source": [
    "train.shape"
   ]
  },
  {
   "cell_type": "code",
   "execution_count": 11,
   "metadata": {
    "execution": {
     "iopub.execute_input": "2023-07-18T22:12:00.816436Z",
     "iopub.status.busy": "2023-07-18T22:12:00.815989Z",
     "iopub.status.idle": "2023-07-18T22:12:00.827824Z",
     "shell.execute_reply": "2023-07-18T22:12:00.826928Z",
     "shell.execute_reply.started": "2023-07-18T22:12:00.816400Z"
    }
   },
   "outputs": [
    {
     "data": {
      "text/plain": [
       "(3728, 21)"
      ]
     },
     "execution_count": 11,
     "metadata": {},
     "output_type": "execute_result"
    }
   ],
   "source": [
    "test.shape"
   ]
  },
  {
   "cell_type": "code",
   "execution_count": 12,
   "metadata": {
    "execution": {
     "iopub.execute_input": "2023-07-18T22:12:00.830087Z",
     "iopub.status.busy": "2023-07-18T22:12:00.829453Z",
     "iopub.status.idle": "2023-07-18T22:12:00.843537Z",
     "shell.execute_reply": "2023-07-18T22:12:00.842614Z",
     "shell.execute_reply.started": "2023-07-18T22:12:00.830051Z"
    }
   },
   "outputs": [
    {
     "data": {
      "text/plain": [
       "(424116, 2)"
      ]
     },
     "execution_count": 12,
     "metadata": {},
     "output_type": "execute_result"
    }
   ],
   "source": [
    "train_labels.shape"
   ]
  },
  {
   "cell_type": "code",
   "execution_count": 13,
   "metadata": {
    "execution": {
     "iopub.execute_input": "2023-07-18T22:12:00.849282Z",
     "iopub.status.busy": "2023-07-18T22:12:00.848434Z",
     "iopub.status.idle": "2023-07-18T22:12:00.891831Z",
     "shell.execute_reply": "2023-07-18T22:12:00.890926Z",
     "shell.execute_reply.started": "2023-07-18T22:12:00.849242Z"
    }
   },
   "outputs": [
    {
     "name": "stdout",
     "output_type": "stream",
     "text": [
      "<class 'pandas.core.frame.DataFrame'>\n",
      "RangeIndex: 26296946 entries, 0 to 26296945\n",
      "Data columns (total 20 columns):\n",
      " #   Column          Dtype   \n",
      "---  ------          -----   \n",
      " 0   session_id      category\n",
      " 1   index           int64   \n",
      " 2   elapsed_time    int32   \n",
      " 3   event_name      category\n",
      " 4   name            category\n",
      " 5   level           int8    \n",
      " 6   page            category\n",
      " 7   room_coor_x     float32 \n",
      " 8   room_coor_y     float32 \n",
      " 9   screen_coor_x   float32 \n",
      " 10  screen_coor_y   float32 \n",
      " 11  hover_duration  float32 \n",
      " 12  text            category\n",
      " 13  fqid            category\n",
      " 14  room_fqid       category\n",
      " 15  text_fqid       category\n",
      " 16  fullscreen      category\n",
      " 17  hq              category\n",
      " 18  music           category\n",
      " 19  level_group     category\n",
      "dtypes: category(12), float32(5), int32(1), int64(1), int8(1)\n",
      "memory usage: 1.2 GB\n"
     ]
    }
   ],
   "source": [
    "train.info()"
   ]
  },
  {
   "cell_type": "code",
   "execution_count": 14,
   "metadata": {
    "execution": {
     "iopub.execute_input": "2023-07-18T22:12:00.893923Z",
     "iopub.status.busy": "2023-07-18T22:12:00.893573Z",
     "iopub.status.idle": "2023-07-18T22:12:00.921725Z",
     "shell.execute_reply": "2023-07-18T22:12:00.920723Z",
     "shell.execute_reply.started": "2023-07-18T22:12:00.893891Z"
    }
   },
   "outputs": [
    {
     "name": "stdout",
     "output_type": "stream",
     "text": [
      "<class 'pandas.core.frame.DataFrame'>\n",
      "RangeIndex: 3728 entries, 0 to 3727\n",
      "Data columns (total 21 columns):\n",
      " #   Column          Non-Null Count  Dtype   \n",
      "---  ------          --------------  -----   \n",
      " 0   session_id      3728 non-null   category\n",
      " 1   index           3728 non-null   int64   \n",
      " 2   elapsed_time    3728 non-null   int32   \n",
      " 3   event_name      3728 non-null   category\n",
      " 4   name            3728 non-null   category\n",
      " 5   level           3728 non-null   int8    \n",
      " 6   page            153 non-null    category\n",
      " 7   room_coor_x     3366 non-null   float32 \n",
      " 8   room_coor_y     3366 non-null   float32 \n",
      " 9   screen_coor_x   3366 non-null   float32 \n",
      " 10  screen_coor_y   3366 non-null   float32 \n",
      " 11  hover_duration  353 non-null    float32 \n",
      " 12  text            1162 non-null   category\n",
      " 13  fqid            2505 non-null   category\n",
      " 14  room_fqid       3728 non-null   category\n",
      " 15  text_fqid       1162 non-null   category\n",
      " 16  fullscreen      3728 non-null   category\n",
      " 17  hq              3728 non-null   category\n",
      " 18  music           3728 non-null   category\n",
      " 19  level_group     3728 non-null   category\n",
      " 20  session_level   3728 non-null   int64   \n",
      "dtypes: category(12), float32(5), int32(1), int64(2), int8(1)\n",
      "memory usage: 226.0 KB\n"
     ]
    }
   ],
   "source": [
    "test.info()"
   ]
  },
  {
   "cell_type": "code",
   "execution_count": 15,
   "metadata": {
    "execution": {
     "iopub.execute_input": "2023-07-18T22:12:00.923447Z",
     "iopub.status.busy": "2023-07-18T22:12:00.923127Z",
     "iopub.status.idle": "2023-07-18T22:12:00.986743Z",
     "shell.execute_reply": "2023-07-18T22:12:00.985923Z",
     "shell.execute_reply.started": "2023-07-18T22:12:00.923417Z"
    }
   },
   "outputs": [
    {
     "name": "stdout",
     "output_type": "stream",
     "text": [
      "<class 'pandas.core.frame.DataFrame'>\n",
      "RangeIndex: 424116 entries, 0 to 424115\n",
      "Data columns (total 2 columns):\n",
      " #   Column      Non-Null Count   Dtype \n",
      "---  ------      --------------   ----- \n",
      " 0   session_id  424116 non-null  object\n",
      " 1   correct     424116 non-null  int64 \n",
      "dtypes: int64(1), object(1)\n",
      "memory usage: 6.5+ MB\n"
     ]
    }
   ],
   "source": [
    "train_labels.info()"
   ]
  },
  {
   "cell_type": "markdown",
   "metadata": {},
   "source": [
    "**Insight**\n",
    "\n",
    "- Train set is quite a big dataframe.\n",
    "\n",
    "- The test dataframe has an extra columns called ``session_level`` which will be used to create the submission file."
   ]
  },
  {
   "cell_type": "markdown",
   "metadata": {},
   "source": [
    "## Missing values"
   ]
  },
  {
   "cell_type": "code",
   "execution_count": 16,
   "metadata": {
    "execution": {
     "iopub.execute_input": "2023-07-18T22:12:00.989043Z",
     "iopub.status.busy": "2023-07-18T22:12:00.987981Z",
     "iopub.status.idle": "2023-07-18T22:12:01.797138Z",
     "shell.execute_reply": "2023-07-18T22:12:01.796287Z",
     "shell.execute_reply.started": "2023-07-18T22:12:00.989004Z"
    }
   },
   "outputs": [
    {
     "data": {
      "text/plain": [
       "session_id               0\n",
       "index                    0\n",
       "elapsed_time             0\n",
       "event_name               0\n",
       "name                     0\n",
       "level                    0\n",
       "page              25732402\n",
       "room_coor_x        2073272\n",
       "room_coor_y        2073272\n",
       "screen_coor_x      2073272\n",
       "screen_coor_y      2073272\n",
       "hover_duration    24294702\n",
       "text              16679807\n",
       "fqid               8274415\n",
       "room_fqid                0\n",
       "text_fqid         16679702\n",
       "fullscreen               0\n",
       "hq                       0\n",
       "music                    0\n",
       "level_group              0\n",
       "dtype: int64"
      ]
     },
     "execution_count": 16,
     "metadata": {},
     "output_type": "execute_result"
    }
   ],
   "source": [
    "train.isnull().sum()"
   ]
  },
  {
   "cell_type": "code",
   "execution_count": 17,
   "metadata": {
    "execution": {
     "iopub.execute_input": "2023-07-18T22:12:01.799273Z",
     "iopub.status.busy": "2023-07-18T22:12:01.798283Z",
     "iopub.status.idle": "2023-07-18T22:12:01.810716Z",
     "shell.execute_reply": "2023-07-18T22:12:01.809752Z",
     "shell.execute_reply.started": "2023-07-18T22:12:01.799230Z"
    }
   },
   "outputs": [
    {
     "data": {
      "text/plain": [
       "session_id           0\n",
       "index                0\n",
       "elapsed_time         0\n",
       "event_name           0\n",
       "name                 0\n",
       "level                0\n",
       "page              3575\n",
       "room_coor_x        362\n",
       "room_coor_y        362\n",
       "screen_coor_x      362\n",
       "screen_coor_y      362\n",
       "hover_duration    3375\n",
       "text              2566\n",
       "fqid              1223\n",
       "room_fqid            0\n",
       "text_fqid         2566\n",
       "fullscreen           0\n",
       "hq                   0\n",
       "music                0\n",
       "level_group          0\n",
       "session_level        0\n",
       "dtype: int64"
      ]
     },
     "execution_count": 17,
     "metadata": {},
     "output_type": "execute_result"
    }
   ],
   "source": [
    "test.isnull().sum()"
   ]
  },
  {
   "cell_type": "markdown",
   "metadata": {},
   "source": [
    "**Insight**\n",
    "\n",
    "- Both the training set and the test set have missing values.\n",
    "\n",
    "- The types of columns with missing values are the same."
   ]
  },
  {
   "cell_type": "code",
   "execution_count": null,
   "metadata": {
    "execution": {
     "iopub.execute_input": "2023-07-18T22:12:01.813034Z",
     "iopub.status.busy": "2023-07-18T22:12:01.811916Z"
    }
   },
   "outputs": [],
   "source": [
    "train_missing_ratios = train.isna().sum() / len(train)\n",
    "test_missing_ratios = test.isna().sum() / len(test)\n",
    "\n",
    "plt.figure(figsize = (12, 3))\n",
    "\n",
    "plt.subplot(1, 2, 1)\n",
    "plt.bar(train_missing_ratios.index, train_missing_ratios.values, color = ['blue' if ratio == 1 else 'green' for ratio in train_missing_ratios.values])\n",
    "plt.xlabel('Feature', fontsize = 12)\n",
    "plt.ylabel('Missing values ratio', fontsize = 12)\n",
    "plt.title('Missing values in TRAIN SET', fontsize = 16)\n",
    "plt.xticks(rotation = 90)\n",
    "\n",
    "plt.legend(handles = [mpatches.Patch(color = 'green'), \n",
    "                      mpatches.Patch(color = 'blue')], \n",
    "                      labels = ['Partially missing values', 'Completely missing values'])\n",
    "plt.subplot(1, 2, 2)\n",
    "plt.bar(test_missing_ratios.index, test_missing_ratios.values, color = ['blue' if ratio == 1 else 'green' for ratio in test_missing_ratios.values])\n",
    "plt.title('Missing values in TEST SET', fontsize = 16)\n",
    "plt.xticks(rotation = 90)\n",
    "\n",
    "plt.show()"
   ]
  },
  {
   "cell_type": "markdown",
   "metadata": {},
   "source": [
    "**Insight**\n",
    "\n",
    "- Drop the ``fullscreen``, ``hq`` and ``music`` features at least, and maybe the ones with more than 80% of missing values. To make this decision about keeping or not the columns with high missing ratio, we will have to evaluate the relevance of them.\n",
    "\n",
    "- The train and test dataframes have similar ratios of missing values, so hopefully they are similar in other attributes, making the training a better fit for the test data."
   ]
  },
  {
   "cell_type": "code",
   "execution_count": 14,
   "metadata": {},
   "outputs": [],
   "source": [
    "train.drop(labels = ['fullscreen', 'hq','music'], axis = 1, inplace = True)\n",
    "test.drop(labels = ['fullscreen', 'hq','music'], axis = 1, inplace = True)"
   ]
  },
  {
   "cell_type": "code",
   "execution_count": null,
   "metadata": {},
   "outputs": [],
   "source": [
    "train.head()"
   ]
  },
  {
   "cell_type": "markdown",
   "metadata": {},
   "source": [
    "## Analysis of the features\n",
    "\n",
    "Let's analyse all the features to understand what they mean."
   ]
  },
  {
   "cell_type": "markdown",
   "metadata": {},
   "source": [
    "### Target distribution"
   ]
  },
  {
   "cell_type": "code",
   "execution_count": null,
   "metadata": {},
   "outputs": [],
   "source": [
    "train_labels.describe()"
   ]
  },
  {
   "cell_type": "code",
   "execution_count": null,
   "metadata": {},
   "outputs": [],
   "source": [
    "f, ax = plt.subplots(1, 2, figsize = (18, 8))\n",
    "train_labels['correct'].value_counts().plot.pie(explode = [0, 0.1], autopct = '%1.1f%%', ax = ax[0], shadow = True)\n",
    "ax[0].set_title('Correct')\n",
    "ax[0].set_ylabel('')\n",
    "sns.countplot(x = 'correct',data = train_labels, ax = ax[1])\n",
    "plt.show()"
   ]
  },
  {
   "cell_type": "markdown",
   "metadata": {},
   "source": [
    "**Insight**\n",
    "\n",
    "- The correct answer rate is 70.4%.\n",
    "\n",
    "- The target values are unbalanced.\n",
    "\n",
    "- It is important to predict well the target value of 0, which has a small ratio."
   ]
  },
  {
   "cell_type": "markdown",
   "metadata": {},
   "source": [
    "### Numerical columns Distribution"
   ]
  },
  {
   "cell_type": "markdown",
   "metadata": {},
   "source": [
    "#### 1. Room & Screen coordinate"
   ]
  },
  {
   "cell_type": "code",
   "execution_count": null,
   "metadata": {},
   "outputs": [],
   "source": [
    "list = ['room_coor_x', 'room_coor_y', 'screen_coor_x', 'screen_coor_y']\n",
    "f, ax = plt.subplots(2, 2, figsize = (18, 8))\n",
    "sns.kdeplot(data = train, x = list[0], ax = ax[0][0])\n",
    "sns.kdeplot(data = train, x = list[1], ax = ax[0][1])\n",
    "sns.kdeplot(data = train, x = list[2], ax = ax[1][0])\n",
    "sns.kdeplot(data = train, x = list[3], ax = ax[1][1])\n",
    "\n",
    "plt.show()\n"
   ]
  },
  {
   "cell_type": "markdown",
   "metadata": {},
   "source": [
    "#### 2. Level"
   ]
  },
  {
   "cell_type": "code",
   "execution_count": null,
   "metadata": {},
   "outputs": [],
   "source": [
    "sns.countplot(x = 'level', data = train)\n",
    "plt.show()"
   ]
  },
  {
   "cell_type": "markdown",
   "metadata": {},
   "source": [
    "#### 3. hover_duration"
   ]
  },
  {
   "cell_type": "code",
   "execution_count": null,
   "metadata": {},
   "outputs": [],
   "source": [
    "train['hover_duration'].nunique()"
   ]
  },
  {
   "cell_type": "code",
   "execution_count": null,
   "metadata": {},
   "outputs": [],
   "source": [
    "train['hover_duration'].unique()"
   ]
  },
  {
   "cell_type": "code",
   "execution_count": null,
   "metadata": {},
   "outputs": [],
   "source": [
    "train_hd = pd.DataFrame(train['hover_duration'])\n",
    "train_hd"
   ]
  },
  {
   "cell_type": "code",
   "execution_count": null,
   "metadata": {},
   "outputs": [],
   "source": [
    "train_hd.loc[(train_hd.hover_duration.notnull()), 'hover_duration'] = 'NotNaN'"
   ]
  },
  {
   "cell_type": "code",
   "execution_count": null,
   "metadata": {},
   "outputs": [],
   "source": [
    "train_hd.loc[(train_hd.hover_duration.isnull()), 'hover_duration'] = 'NaN'\n",
    "train_hd"
   ]
  },
  {
   "cell_type": "code",
   "execution_count": null,
   "metadata": {},
   "outputs": [],
   "source": [
    "f, ax = plt.subplots(1, 2, figsize = (18, 8))\n",
    "train_hd['hover_duration'].value_counts().plot.pie(explode = [0, 0.1], autopct = '%1.1f%%', ax = ax[0], shadow = True)\n",
    "ax[0].set_title('hover_duration')\n",
    "ax[0].set_ylabel('hover_duration')\n",
    "sns.countplot(x = 'hover_duration', data = train_hd, ax = ax[1])\n",
    "ax[1].set_title('hover_duration')\n",
    "plt.show()"
   ]
  },
  {
   "cell_type": "markdown",
   "metadata": {},
   "source": [
    "**Insight**\n",
    "\n",
    "- Most value of ``hover_duration`` is 'NaN'.\n",
    "\n",
    "- The percentage of ``hover_duration`` values is 7.6%.\n",
    "\n",
    "- The percentage of ``hover_duration`` values is 92.4%."
   ]
  },
  {
   "cell_type": "markdown",
   "metadata": {},
   "source": [
    "### Categorical columns Distribution"
   ]
  },
  {
   "cell_type": "markdown",
   "metadata": {},
   "source": [
    "#### 1. Event_name & name & level_group & room_fqid"
   ]
  },
  {
   "cell_type": "code",
   "execution_count": null,
   "metadata": {},
   "outputs": [],
   "source": [
    "list = ['event_name', 'name', 'level_group', 'room_fqid']\n",
    "\n",
    "f, ax = plt.subplots(2, 2, figsize = (24, 20))\n",
    "\n",
    "sns.countplot(x = list[0], data = train, ax = ax[0][0])\n",
    "ax[0][0].set_xticklabels(ax[0][0].get_xticklabels(),rotation = -20)\n",
    "sns.countplot(x = list[1], data = train, ax = ax[0][1])\n",
    "sns.countplot(x = list[2], data = train, ax = ax[1][0])\n",
    "sns.countplot(x = list[3], data = train, ax = ax[1][1])\n",
    "\n",
    "ax[1][1].set_xticklabels(ax[1][1].get_xticklabels(),rotation = 90)\n",
    "\n",
    "plt.show()"
   ]
  },
  {
   "cell_type": "markdown",
   "metadata": {},
   "source": [
    "#### 3. Page"
   ]
  },
  {
   "cell_type": "code",
   "execution_count": null,
   "metadata": {},
   "outputs": [],
   "source": [
    "train['page'].unique()"
   ]
  },
  {
   "cell_type": "code",
   "execution_count": null,
   "metadata": {},
   "outputs": [],
   "source": [
    "page_t = train['page']\n",
    "page_t"
   ]
  },
  {
   "cell_type": "code",
   "execution_count": null,
   "metadata": {},
   "outputs": [],
   "source": [
    "page = page_t.cat.add_categories(\"NaN\").fillna(\"NaN\")\n",
    "page = pd.DataFrame(page)\n",
    "page"
   ]
  },
  {
   "cell_type": "code",
   "execution_count": null,
   "metadata": {},
   "outputs": [],
   "source": [
    "sns.countplot(data = page, x = 'page')\n",
    "plt.show()"
   ]
  },
  {
   "cell_type": "markdown",
   "metadata": {},
   "source": [
    "**Insight**\n",
    "\n",
    "- Most value of page is NaN.\n",
    "\n",
    "- Values other than NaN also exist, but the ratio is too small."
   ]
  },
  {
   "cell_type": "code",
   "execution_count": null,
   "metadata": {},
   "outputs": [],
   "source": [
    "train.drop(labels = ['page'], axis = 1, inplace = True)\n",
    "train.head()"
   ]
  },
  {
   "cell_type": "markdown",
   "metadata": {},
   "source": [
    "## Correlation between features"
   ]
  },
  {
   "cell_type": "markdown",
   "metadata": {},
   "source": [
    "### 1. Event name vs Name"
   ]
  },
  {
   "cell_type": "code",
   "execution_count": null,
   "metadata": {},
   "outputs": [],
   "source": [
    "pivot_table = train.pivot_table(index = 'event_name', columns = 'name', aggfunc = 'size')\n",
    "pivot_table = pivot_table.fillna(0).astype(int)\n",
    "plt.figure(figsize = (8, 6))\n",
    "sns.heatmap(data = pivot_table, annot = True, fmt = 'd', cmap = 'Blues')\n",
    "plt.title(\"Correlation between Event name and Name\")\n",
    "plt.show()"
   ]
  },
  {
   "cell_type": "markdown",
   "metadata": {},
   "source": [
    "**Insight**\n",
    "\n",
    "- The 'event_name' mainly cosist of clicks and sometimes hovers.\n",
    "\n",
    "- Certain 'name' only occur with specific 'event_name'. Not all combinations are possible."
   ]
  },
  {
   "cell_type": "markdown",
   "metadata": {},
   "source": [
    "### 2. Level vs elapsed time"
   ]
  },
  {
   "cell_type": "code",
   "execution_count": null,
   "metadata": {},
   "outputs": [],
   "source": [
    "level_vs_elapsed_time = pd.DataFrame(train.groupby(\"level\").agg({\"elapsed_time\" : \"mean\"}))\n",
    "level_vs_elapsed_time = level_vs_elapsed_time.reset_index(drop = False)"
   ]
  },
  {
   "cell_type": "code",
   "execution_count": null,
   "metadata": {},
   "outputs": [],
   "source": [
    "x, y = level_vs_elapsed_time[\"level\"].values, level_vs_elapsed_time[\"elapsed_time\"]\n",
    "min_x, max_x = np.min(x), np.max(x)\n",
    "f, ax = plt.subplots(figsize = (20 ,7))\n",
    "sns.lineplot(x = x, y = y)\n",
    "ax.set_xlabel(\"level\", fontsize = 15)\n",
    "ax.set_ylabel(\"elapsed_time\", fontsize = 15)\n",
    "ax.set_xticks(range(min_x, max_x + 1, 1))\n",
    "ax.set_xlim(min_x, max_x)\n",
    "ax.set_ylim(0.0)\n",
    "\n",
    "plt.show()"
   ]
  },
  {
   "cell_type": "markdown",
   "metadata": {},
   "source": [
    "**Insight**\n",
    "\n",
    "- The higher the level, the longer it takes to complete the event."
   ]
  },
  {
   "cell_type": "markdown",
   "metadata": {},
   "source": [
    "### 3. Level vs room_fqid"
   ]
  },
  {
   "cell_type": "markdown",
   "metadata": {},
   "source": [
    "- ```level``` is what level of the game the event occurred in (0 to 22).\n",
    "\n",
    "- ```room_fqid``` is the fully qualified ID of the room the event took place in\n",
    "\n",
    "- The player progresses by moving from one game room (room_fqid) and level (level) to another"
   ]
  },
  {
   "cell_type": "code",
   "execution_count": null,
   "metadata": {},
   "outputs": [],
   "source": [
    "lv_room_corr = train.pivot_table(index = 'room_fqid', columns = 'level', aggfunc = 'size')\n",
    "lv_room_corr"
   ]
  },
  {
   "cell_type": "code",
   "execution_count": null,
   "metadata": {},
   "outputs": [],
   "source": [
    "lv_room_corr = (lv_room_corr/1000).round(1)\n",
    "plt.figure(figsize = (20, 12))\n",
    "sns.heatmap(data = lv_room_corr, cmap = 'Greens', fmt = '.1f', annot = True)\n",
    "plt.title(\"Correlation between level and room_fqid\")\n",
    "plt.show()"
   ]
  },
  {
   "cell_type": "markdown",
   "metadata": {},
   "source": [
    "**Insight**\n",
    "\n",
    "- Depending on the type of room(room_id), the level of questions occured is different.\n",
    "\n",
    "- Level 0 questions occur in tunic.historicalsociety.closet.\n",
    "\n",
    "- Most of Level 6 questions occur in tunic.historicalsociety.collection and tunic.historicalsociety.frontdesk.\n",
    "\n",
    "- Most of Level 18 questions occur in tunic.wildlife.center.\n",
    "\n",
    "- Some rooms don't have problems at a certain level."
   ]
  },
  {
   "cell_type": "markdown",
   "metadata": {},
   "source": [
    "## Feature Engineer"
   ]
  },
  {
   "cell_type": "markdown",
   "metadata": {},
   "source": [
    "#### 1. Filling NaN room_coor & screen_coor "
   ]
  },
  {
   "cell_type": "code",
   "execution_count": null,
   "metadata": {},
   "outputs": [],
   "source": [
    "train.groupby(['level_group','room_fqid']).room_coor_x.mean()"
   ]
  },
  {
   "cell_type": "code",
   "execution_count": null,
   "metadata": {},
   "outputs": [],
   "source": [
    "train.loc[(train.room_coor_x.isnull())&(train.room_fqid == 'tunic.capitol_0.hall'), 'room_coor_x'] = 350\n",
    "train.loc[(train.room_coor_x.isnull())&(train.room_fqid == 'tunic.capitol_1.hall'), 'room_coor_x'] = 354\n",
    "train.loc[(train.room_coor_x.isnull())&(train.room_fqid == 'tunic.capitol_2.hall'), 'room_coor_x'] = 223\n",
    "train.loc[(train.room_coor_x.isnull())&(train.room_fqid == 'tunic.drycleaner.frontdesk'), 'room_coor_x'] = 39\n",
    "train.loc[(train.room_coor_x.isnull())&(train.room_fqid == 'tunic.flaghouse.entry'), 'room_coor_x'] = 221\n",
    "train.loc[(train.room_coor_x.isnull())&(train.room_fqid == 'tunic.historicalsociety.basement'), 'room_coor_x'] = -120\n",
    "train.loc[(train.room_coor_x.isnull())&(train.room_fqid == 'tunic.historicalsociety.cage'), 'room_coor_x'] = -874\n",
    "train.loc[(train.room_coor_x.isnull())&(train.room_fqid == 'tunic.historicalsociety.closet'), 'room_coor_x'] = -180\n",
    "train.loc[(train.room_coor_x.isnull())&(train.room_fqid == 'tunic.historicalsociety.closet_dirty'), 'room_coor_x'] = -242\n",
    "train.loc[(train.room_coor_x.isnull())&(train.room_fqid == 'tunic.historicalsociety.collection'), 'room_coor_x'] = 95\n",
    "train.loc[(train.room_coor_x.isnull())&(train.room_fqid == 'tunic.historicalsociety.collection_flag'), 'room_coor_x'] = 93\n",
    "train.loc[(train.room_coor_x.isnull())&(train.room_fqid == 'tunic.historicalsociety.entry'), 'room_coor_x'] = 160\n",
    "train.loc[(train.room_coor_x.isnull())&(train.room_fqid == 'tunic.historicalsociety.frontdesk'), 'room_coor_x'] = -1\n",
    "train.loc[(train.room_coor_x.isnull())&(train.room_fqid == 'tunic.historicalsociety.stacks'), 'room_coor_x'] = 146\n",
    "train.loc[(train.room_coor_x.isnull())&(train.room_fqid == 'tunic.humanecology.frontdesk'), 'room_coor_x'] = 121\n",
    "train.loc[(train.room_coor_x.isnull())&(train.room_fqid == 'tunic.kohlcenter.halloffame'), 'room_coor_x'] = 39\n",
    "train.loc[(train.room_coor_x.isnull())&(train.room_fqid == 'tunic.library.frontdesk'), 'room_coor_x'] = -164\n",
    "train.loc[(train.room_coor_x.isnull())&(train.room_fqid == 'tunic.library.microfiche'), 'room_coor_x'] = 11\n",
    "train.loc[(train.room_coor_x.isnull())&(train.room_fqid == 'tunic.wildlife.center'), 'room_coor_x'] = 59"
   ]
  },
  {
   "cell_type": "code",
   "execution_count": null,
   "metadata": {},
   "outputs": [],
   "source": [
    "train.groupby('room_fqid')['room_coor_y'].mean()"
   ]
  },
  {
   "cell_type": "code",
   "execution_count": null,
   "metadata": {},
   "outputs": [],
   "source": [
    "train.loc[(train.room_coor_y.isnull())&(train.room_fqid == 'tunic.capitol_0.hall'), 'room_coor_y'] = -176\n",
    "train.loc[(train.room_coor_y.isnull())&(train.room_fqid == 'tunic.capitol_1.hall'), 'room_coor_y'] = -118\n",
    "train.loc[(train.room_coor_y.isnull())&(train.room_fqid == 'tunic.capitol_2.hall'), 'room_coor_y'] = -96\n",
    "train.loc[(train.room_coor_y.isnull())&(train.room_fqid == 'tunic.drycleaner.frontdesk'), 'room_coor_y'] = -9\n",
    "train.loc[(train.room_coor_y.isnull())&(train.room_fqid == 'tunic.flaghouse.entry'), 'room_coor_y'] = -5\n",
    "train.loc[(train.room_coor_y.isnull())&(train.room_fqid == 'tunic.historicalsociety.basement'), 'room_coor_y'] = -88\n",
    "train.loc[(train.room_coor_y.isnull())&(train.room_fqid == 'tunic.historicalsociety.cage'), 'room_coor_y'] = -145\n",
    "train.loc[(train.room_coor_y.isnull())&(train.room_fqid == 'tunic.historicalsociety.closet'), 'room_coor_y'] = -107\n",
    "train.loc[(train.room_coor_y.isnull())&(train.room_fqid == 'tunic.historicalsociety.closet_dirty'), 'room_coor_y'] = -119\n",
    "train.loc[(train.room_coor_y.isnull())&(train.room_fqid == 'tunic.historicalsociety.collection'), 'room_coor_y'] = 5\n",
    "train.loc[(train.room_coor_y.isnull())&(train.room_fqid == 'tunic.historicalsociety.collection_flag'), 'room_coor_y'] = -29\n",
    "train.loc[(train.room_coor_y.isnull())&(train.room_fqid == 'tunic.historicalsociety.entry'), 'room_coor_y'] = -44\n",
    "train.loc[(train.room_coor_y.isnull())&(train.room_fqid == 'tunic.historicalsociety.frontdesk'), 'room_coor_y'] = -25\n",
    "train.loc[(train.room_coor_y.isnull())&(train.room_fqid == 'tunic.historicalsociety.stacks'), 'room_coor_y'] = -56\n",
    "train.loc[(train.room_coor_y.isnull())&(train.room_fqid == 'tunic.humanecology.frontdesk'), 'room_coor_y'] = -74\n",
    "train.loc[(train.room_coor_y.isnull())&(train.room_fqid == 'tunic.kohlcenter.halloffame'), 'room_coor_y'] = -53\n",
    "train.loc[(train.room_coor_y.isnull())&(train.room_fqid == 'tunic.library.frontdesk'), 'room_coor_y'] = 27\n",
    "train.loc[(train.room_coor_y.isnull())&(train.room_fqid == 'tunic.library.microfiche'), 'room_coor_y'] = -76\n",
    "train.loc[(train.room_coor_y.isnull())&(train.room_fqid == 'tunic.wildlife.center'), 'room_coor_y'] = -535"
   ]
  },
  {
   "cell_type": "code",
   "execution_count": null,
   "metadata": {},
   "outputs": [],
   "source": [
    "train.groupby('room_fqid')['screen_coor_x'].mean()"
   ]
  },
  {
   "cell_type": "code",
   "execution_count": null,
   "metadata": {},
   "outputs": [],
   "source": [
    "train.loc[(train.screen_coor_x.isnull())&(train.room_fqid == 'tunic.capitol_0.hall'), 'screen_coor_x'] = 605\n",
    "train.loc[(train.screen_coor_x.isnull())&(train.room_fqid == 'tunic.capitol_1.hall'), 'screen_coor_x'] = 615\n",
    "train.loc[(train.screen_coor_x.isnull())&(train.room_fqid == 'tunic.capitol_2.hall'), 'screen_coor_x'] = 539\n",
    "train.loc[(train.screen_coor_x.isnull())&(train.room_fqid == 'tunic.drycleaner.frontdesk'), 'screen_coor_x'] = 439\n",
    "train.loc[(train.screen_coor_x.isnull())&(train.room_fqid == 'tunic.flaghouse.entry'), 'screen_coor_x'] = 600\n",
    "train.loc[(train.screen_coor_x.isnull())&(train.room_fqid == 'tunic.historicalsociety.basement'), 'screen_coor_x'] = 386\n",
    "train.loc[(train.screen_coor_x.isnull())&(train.room_fqid == 'tunic.historicalsociety.cage'), 'screen_coor_x'] = 424\n",
    "train.loc[(train.screen_coor_x.isnull())&(train.room_fqid == 'tunic.historicalsociety.closet'), 'screen_coor_x'] = 427\n",
    "train.loc[(train.screen_coor_x.isnull())&(train.room_fqid == 'tunic.historicalsociety.closet_dirty'), 'screen_coor_x'] = 411\n",
    "train.loc[(train.screen_coor_x.isnull())&(train.room_fqid == 'tunic.historicalsociety.collection'), 'screen_coor_x'] = 488\n",
    "train.loc[(train.screen_coor_x.isnull())&(train.room_fqid == 'tunic.historicalsociety.collection_flag'), 'screen_coor_x'] = 475\n",
    "train.loc[(train.screen_coor_x.isnull())&(train.room_fqid == 'tunic.historicalsociety.entry'), 'screen_coor_x'] = 479\n",
    "train.loc[(train.screen_coor_x.isnull())&(train.room_fqid == 'tunic.historicalsociety.frontdesk'), 'screen_coor_x'] = 415\n",
    "train.loc[(train.screen_coor_x.isnull())&(train.room_fqid == 'tunic.historicalsociety.stacks'), 'screen_coor_x'] = 539\n",
    "train.loc[(train.screen_coor_x.isnull())&(train.room_fqid == 'tunic.humanecology.frontdesk'), 'screen_coor_x'] = 500\n",
    "train.loc[(train.screen_coor_x.isnull())&(train.room_fqid == 'tunic.kohlcenter.halloffame'), 'screen_coor_x'] = 430\n",
    "train.loc[(train.screen_coor_x.isnull())&(train.room_fqid == 'tunic.library.frontdesk'), 'screen_coor_x'] = 398\n",
    "train.loc[(train.screen_coor_x.isnull())&(train.room_fqid == 'tunic.library.microfiche'), 'screen_coor_x'] = 461\n",
    "train.loc[(train.screen_coor_x.isnull())&(train.room_fqid == 'tunic.wildlife.center'), 'screen_coor_x'] = 465"
   ]
  },
  {
   "cell_type": "code",
   "execution_count": null,
   "metadata": {},
   "outputs": [],
   "source": [
    "train.groupby('room_fqid')['screen_coor_y'].mean()"
   ]
  },
  {
   "cell_type": "code",
   "execution_count": null,
   "metadata": {},
   "outputs": [],
   "source": [
    "train.loc[(train.screen_coor_y.isnull())&(train.room_fqid == 'tunic.capitol_0.hall'), 'screen_coor_y'] = 422\n",
    "train.loc[(train.screen_coor_y.isnull())&(train.room_fqid == 'tunic.capitol_1.hall'), 'screen_coor_y'] = 385\n",
    "train.loc[(train.screen_coor_y.isnull())&(train.room_fqid == 'tunic.capitol_2.hall'), 'screen_coor_y'] = 370\n",
    "train.loc[(train.screen_coor_y.isnull())&(train.room_fqid == 'tunic.drycleaner.frontdesk'), 'screen_coor_y'] = 343\n",
    "train.loc[(train.screen_coor_y.isnull())&(train.room_fqid == 'tunic.flaghouse.entry'), 'screen_coor_y'] = 335\n",
    "train.loc[(train.screen_coor_y.isnull())&(train.room_fqid == 'tunic.historicalsociety.basement'), 'screen_coor_y'] = 387\n",
    "train.loc[(train.screen_coor_y.isnull())&(train.room_fqid == 'tunic.historicalsociety.cage'), 'screen_coor_y'] = 453\n",
    "train.loc[(train.screen_coor_y.isnull())&(train.room_fqid == 'tunic.historicalsociety.closet'), 'screen_coor_y'] = 409\n",
    "train.loc[(train.screen_coor_y.isnull())&(train.room_fqid == 'tunic.historicalsociety.closet_dirty'), 'screen_coor_y'] = 417\n",
    "train.loc[(train.screen_coor_y.isnull())&(train.room_fqid == 'tunic.historicalsociety.collection'), 'screen_coor_y'] = 330\n",
    "train.loc[(train.screen_coor_y.isnull())&(train.room_fqid == 'tunic.historicalsociety.collection_flag'), 'screen_coor_y'] = 351\n",
    "train.loc[(train.screen_coor_y.isnull())&(train.room_fqid == 'tunic.historicalsociety.entry'), 'screen_coor_y'] = 355\n",
    "train.loc[(train.screen_coor_y.isnull())&(train.room_fqid == 'tunic.historicalsociety.frontdesk'), 'screen_coor_y'] = 359\n",
    "train.loc[(train.screen_coor_y.isnull())&(train.room_fqid == 'tunic.historicalsociety.stacks'), 'screen_coor_y'] = 388\n",
    "train.loc[(train.screen_coor_y.isnull())&(train.room_fqid == 'tunic.humanecology.frontdesk'), 'screen_coor_y'] = 408\n",
    "train.loc[(train.screen_coor_y.isnull())&(train.room_fqid == 'tunic.kohlcenter.halloffame'), 'screen_coor_y'] = 387\n",
    "train.loc[(train.screen_coor_y.isnull())&(train.room_fqid == 'tunic.library.frontdesk'), 'screen_coor_y'] = 312\n",
    "train.loc[(train.screen_coor_y.isnull())&(train.room_fqid == 'tunic.library.microfiche'), 'screen_coor_y'] = 410\n",
    "train.loc[(train.screen_coor_y.isnull())&(train.room_fqid == 'tunic.wildlife.center'), 'screen_coor_y'] = 437"
   ]
  },
  {
   "cell_type": "code",
   "execution_count": null,
   "metadata": {},
   "outputs": [],
   "source": [
    "train.isnull().sum()"
   ]
  },
  {
   "cell_type": "markdown",
   "metadata": {},
   "source": [
    "### 2. Drop unnecessay columns"
   ]
  },
  {
   "cell_type": "code",
   "execution_count": null,
   "metadata": {},
   "outputs": [],
   "source": [
    "train.drop(labels = ['index'], axis = 1, inplace =True)"
   ]
  },
  {
   "cell_type": "markdown",
   "metadata": {},
   "source": [
    "### 3. Data to train model"
   ]
  },
  {
   "cell_type": "code",
   "execution_count": 1,
   "metadata": {},
   "outputs": [],
   "source": [
    "events = ['navigate_click','person_click','cutscene_click', 'object_click',\n",
    "              'object_hover', 'map_hover', 'notification_click', 'notebook_click',\n",
    "              'map_click', 'observation_click', 'checkpoint']\n",
    "cats = ['name', 'room_fqid',\"fqid\"]\n",
    "nums = [\"room_coor_x\", \"room_coor_y\", \"screen_coor_x\", \"screen_coor_y\",\n",
    "        \"elapsed_time\"]"
   ]
  },
  {
   "cell_type": "code",
   "execution_count": 2,
   "metadata": {},
   "outputs": [],
   "source": [
    "def engineering(train):\n",
    "  df = []\n",
    "  for c in cats:\n",
    "    tmp = train.groupby(['session_id','level_group'])[c].agg('nunique')\n",
    "    tmp.name = tmp.name + '_type'\n",
    "    df.append(tmp)\n",
    "  for c in nums:\n",
    "    tmp = train.groupby(['session_id', 'level_group'])[c].agg('mean')\n",
    "    tmp.name = tmp.name + '_mean'\n",
    "    df.append(tmp)\n",
    "  for c in nums:\n",
    "    tmp = train.groupby(['session_id', 'level_group'])[c].agg('std')\n",
    "    tmp.name = tmp.name + '_std'\n",
    "    df.append(tmp)\n",
    "  for c in events:\n",
    "    train[c] = (train.event_name == c).astype('int8')\n",
    "  for c in events:\n",
    "    tmp = train.groupby(['session_id', 'level_group'])[c].agg('sum')\n",
    "    tmp.name = tmp.name + '_sum'\n",
    "    df.append(tmp)\n",
    "    df = pd.concat(df, axis = 1)\n",
    "    df = df.reset_index()\n",
    "    df = df.set_index('session_id')\n",
    "  return df "
   ]
  },
  {
   "cell_type": "markdown",
   "metadata": {},
   "source": [
    "## Predictive modeling"
   ]
  },
  {
   "cell_type": "code",
   "execution_count": 11,
   "metadata": {},
   "outputs": [],
   "source": [
    "import xgboost as xgb\n",
    "from numpy import loadtxt\n",
    "from xgboost import XGBClassifier\n",
    "from sklearn.model_selection import train_test_split\n",
    "from sklearn.metrics import accuracy_score"
   ]
  },
  {
   "cell_type": "code",
   "execution_count": 10,
   "metadata": {},
   "outputs": [],
   "source": [
    "# Split data into X and y\n",
    "X = train\n",
    "Y = train_labels"
   ]
  },
  {
   "cell_type": "code",
   "execution_count": 15,
   "metadata": {},
   "outputs": [
    {
     "ename": "ValueError",
     "evalue": "Found input variables with inconsistent numbers of samples: [26296946, 424116]",
     "output_type": "error",
     "traceback": [
      "\u001b[1;31m---------------------------------------------------------------------------\u001b[0m",
      "\u001b[1;31mValueError\u001b[0m                                Traceback (most recent call last)",
      "Cell \u001b[1;32mIn[15], line 2\u001b[0m\n\u001b[0;32m      1\u001b[0m \u001b[38;5;66;03m# Split into train and test for xbg model\u001b[39;00m\n\u001b[1;32m----> 2\u001b[0m X_train, X_test, y_train, y_test \u001b[38;5;241m=\u001b[39m \u001b[43mtrain_test_split\u001b[49m\u001b[43m(\u001b[49m\u001b[43mX\u001b[49m\u001b[43m,\u001b[49m\u001b[43m \u001b[49m\u001b[43mY\u001b[49m\u001b[43m,\u001b[49m\u001b[43m \u001b[49m\u001b[43mtest_size\u001b[49m\u001b[38;5;241;43m=\u001b[39;49m\u001b[38;5;241;43m0.3\u001b[39;49m\u001b[43m,\u001b[49m\u001b[43m \u001b[49m\u001b[43mrandom_state\u001b[49m\u001b[38;5;241;43m=\u001b[39;49m\u001b[38;5;241;43m7\u001b[39;49m\u001b[43m)\u001b[49m\n",
      "File \u001b[1;32m~\\anaconda3\\lib\\site-packages\\sklearn\\model_selection\\_split.py:2559\u001b[0m, in \u001b[0;36mtrain_test_split\u001b[1;34m(test_size, train_size, random_state, shuffle, stratify, *arrays)\u001b[0m\n\u001b[0;32m   2556\u001b[0m \u001b[38;5;28;01mif\u001b[39;00m n_arrays \u001b[38;5;241m==\u001b[39m \u001b[38;5;241m0\u001b[39m:\n\u001b[0;32m   2557\u001b[0m     \u001b[38;5;28;01mraise\u001b[39;00m \u001b[38;5;167;01mValueError\u001b[39;00m(\u001b[38;5;124m\"\u001b[39m\u001b[38;5;124mAt least one array required as input\u001b[39m\u001b[38;5;124m\"\u001b[39m)\n\u001b[1;32m-> 2559\u001b[0m arrays \u001b[38;5;241m=\u001b[39m \u001b[43mindexable\u001b[49m\u001b[43m(\u001b[49m\u001b[38;5;241;43m*\u001b[39;49m\u001b[43marrays\u001b[49m\u001b[43m)\u001b[49m\n\u001b[0;32m   2561\u001b[0m n_samples \u001b[38;5;241m=\u001b[39m _num_samples(arrays[\u001b[38;5;241m0\u001b[39m])\n\u001b[0;32m   2562\u001b[0m n_train, n_test \u001b[38;5;241m=\u001b[39m _validate_shuffle_split(\n\u001b[0;32m   2563\u001b[0m     n_samples, test_size, train_size, default_test_size\u001b[38;5;241m=\u001b[39m\u001b[38;5;241m0.25\u001b[39m\n\u001b[0;32m   2564\u001b[0m )\n",
      "File \u001b[1;32m~\\anaconda3\\lib\\site-packages\\sklearn\\utils\\validation.py:443\u001b[0m, in \u001b[0;36mindexable\u001b[1;34m(*iterables)\u001b[0m\n\u001b[0;32m    424\u001b[0m \u001b[38;5;124;03m\"\"\"Make arrays indexable for cross-validation.\u001b[39;00m\n\u001b[0;32m    425\u001b[0m \n\u001b[0;32m    426\u001b[0m \u001b[38;5;124;03mChecks consistent length, passes through None, and ensures that everything\u001b[39;00m\n\u001b[1;32m   (...)\u001b[0m\n\u001b[0;32m    439\u001b[0m \u001b[38;5;124;03m    sparse matrix, or dataframe) or `None`.\u001b[39;00m\n\u001b[0;32m    440\u001b[0m \u001b[38;5;124;03m\"\"\"\u001b[39;00m\n\u001b[0;32m    442\u001b[0m result \u001b[38;5;241m=\u001b[39m [_make_indexable(X) \u001b[38;5;28;01mfor\u001b[39;00m X \u001b[38;5;129;01min\u001b[39;00m iterables]\n\u001b[1;32m--> 443\u001b[0m \u001b[43mcheck_consistent_length\u001b[49m\u001b[43m(\u001b[49m\u001b[38;5;241;43m*\u001b[39;49m\u001b[43mresult\u001b[49m\u001b[43m)\u001b[49m\n\u001b[0;32m    444\u001b[0m \u001b[38;5;28;01mreturn\u001b[39;00m result\n",
      "File \u001b[1;32m~\\anaconda3\\lib\\site-packages\\sklearn\\utils\\validation.py:397\u001b[0m, in \u001b[0;36mcheck_consistent_length\u001b[1;34m(*arrays)\u001b[0m\n\u001b[0;32m    395\u001b[0m uniques \u001b[38;5;241m=\u001b[39m np\u001b[38;5;241m.\u001b[39munique(lengths)\n\u001b[0;32m    396\u001b[0m \u001b[38;5;28;01mif\u001b[39;00m \u001b[38;5;28mlen\u001b[39m(uniques) \u001b[38;5;241m>\u001b[39m \u001b[38;5;241m1\u001b[39m:\n\u001b[1;32m--> 397\u001b[0m     \u001b[38;5;28;01mraise\u001b[39;00m \u001b[38;5;167;01mValueError\u001b[39;00m(\n\u001b[0;32m    398\u001b[0m         \u001b[38;5;124m\"\u001b[39m\u001b[38;5;124mFound input variables with inconsistent numbers of samples: \u001b[39m\u001b[38;5;132;01m%r\u001b[39;00m\u001b[38;5;124m\"\u001b[39m\n\u001b[0;32m    399\u001b[0m         \u001b[38;5;241m%\u001b[39m [\u001b[38;5;28mint\u001b[39m(l) \u001b[38;5;28;01mfor\u001b[39;00m l \u001b[38;5;129;01min\u001b[39;00m lengths]\n\u001b[0;32m    400\u001b[0m     )\n",
      "\u001b[1;31mValueError\u001b[0m: Found input variables with inconsistent numbers of samples: [26296946, 424116]"
     ]
    }
   ],
   "source": [
    "# Split into train and test for xbg model\n",
    "X_train, X_test, y_train, y_test = train_test_split(X, Y, test_size=0.3, random_state=7)"
   ]
  },
  {
   "cell_type": "code",
   "execution_count": null,
   "metadata": {},
   "outputs": [],
   "source": [
    "# Fit model on training data\n",
    "model = XGBClassifier()\n",
    "model.fit(X_train, y_train)"
   ]
  },
  {
   "cell_type": "code",
   "execution_count": null,
   "metadata": {},
   "outputs": [],
   "source": []
  }
 ],
 "metadata": {
  "kernelspec": {
   "display_name": "Python 3 (ipykernel)",
   "language": "python",
   "name": "python3"
  },
  "language_info": {
   "codemirror_mode": {
    "name": "ipython",
    "version": 3
   },
   "file_extension": ".py",
   "mimetype": "text/x-python",
   "name": "python",
   "nbconvert_exporter": "python",
   "pygments_lexer": "ipython3",
   "version": "3.10.9"
  }
 },
 "nbformat": 4,
 "nbformat_minor": 4
}
